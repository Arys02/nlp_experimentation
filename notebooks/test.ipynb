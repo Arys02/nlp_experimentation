{
 "cells": [
  {
   "cell_type": "code",
   "id": "initial_id",
   "metadata": {
    "collapsed": true,
    "ExecuteTime": {
     "end_time": "2024-10-27T09:27:56.992014Z",
     "start_time": "2024-10-27T09:27:56.129688Z"
    }
   },
   "source": [
    "import pandas as pd\n",
    "import numpy as np\n",
    "\n",
    "from src.dataset.dataset import make_dataset\n",
    "from src.config import RAW_DATA_DIR, MODELS_DIR\n",
    "\n",
    "from src.features import make_features\n"
   ],
   "outputs": [
    {
     "name": "stderr",
     "output_type": "stream",
     "text": [
      "\u001B[32m2024-10-27 10:27:56.504\u001B[0m | \u001B[1mINFO    \u001B[0m | \u001B[36msrc.config\u001B[0m:\u001B[36m<module>\u001B[0m:\u001B[36m11\u001B[0m - \u001B[1mPROJ_ROOT path is: /home/arys/projects/nlp_experimentation\u001B[0m\n"
     ]
    }
   ],
   "execution_count": 1
  },
  {
   "metadata": {},
   "cell_type": "markdown",
   "source": "# train",
   "id": "f74d3efca41dd922"
  },
  {
   "metadata": {
    "ExecuteTime": {
     "end_time": "2024-10-27T09:27:57.423143Z",
     "start_time": "2024-10-27T09:27:57.420121Z"
    }
   },
   "cell_type": "code",
   "source": [
    "\n",
    "train_csv = f'{RAW_DATA_DIR}/train.csv'\n",
    "test_csv = f'{RAW_DATA_DIR}/test.csv'\n",
    "all_csv = f'{RAW_DATA_DIR}/dataset.csv'\n",
    "model_path = f'{MODELS_DIR}/dump.json'"
   ],
   "id": "1e8fd704272950c8",
   "outputs": [],
   "execution_count": 2
  },
  {
   "metadata": {
    "ExecuteTime": {
     "end_time": "2024-10-27T09:27:57.962646Z",
     "start_time": "2024-10-27T09:27:57.948795Z"
    }
   },
   "cell_type": "code",
   "source": [
    "df = make_dataset(train_csv)\n",
    "df"
   ],
   "id": "ab0fa5e4f30bbf67",
   "outputs": [
    {
     "data": {
      "text/plain": [
       "     Unnamed: 0                                         video_name  is_comic\n",
       "0           291  Jeanlouis Tripp : \"Comment dessiner \"Le petit ...         0\n",
       "1           958  \"Valérie Pécresse elle est pas encore présiden...         0\n",
       "2           662  L'Illiade : Achille dépose les armes (2/3) - L...         0\n",
       "3            42    Thierry Lhermitte - Morgane Cadignan n'aime pas         1\n",
       "4           706  La question des parrainages et la fracture dém...         0\n",
       "..          ...                                                ...       ...\n",
       "794         663  Elie Cohen et François Asselin : \"On découvre ...         0\n",
       "795          48  Canicule : des températures pas très républica...         1\n",
       "796         582  Laure Calamy : \"On a envie de raconter les fem...         0\n",
       "797         568  Le questionnaire Jupiproust de Charlie Danger ...         0\n",
       "798         388  Le questionnaire Jupiproust de Gérard Garouste...         1\n",
       "\n",
       "[799 rows x 3 columns]"
      ],
      "text/html": [
       "<div>\n",
       "<style scoped>\n",
       "    .dataframe tbody tr th:only-of-type {\n",
       "        vertical-align: middle;\n",
       "    }\n",
       "\n",
       "    .dataframe tbody tr th {\n",
       "        vertical-align: top;\n",
       "    }\n",
       "\n",
       "    .dataframe thead th {\n",
       "        text-align: right;\n",
       "    }\n",
       "</style>\n",
       "<table border=\"1\" class=\"dataframe\">\n",
       "  <thead>\n",
       "    <tr style=\"text-align: right;\">\n",
       "      <th></th>\n",
       "      <th>Unnamed: 0</th>\n",
       "      <th>video_name</th>\n",
       "      <th>is_comic</th>\n",
       "    </tr>\n",
       "  </thead>\n",
       "  <tbody>\n",
       "    <tr>\n",
       "      <th>0</th>\n",
       "      <td>291</td>\n",
       "      <td>Jeanlouis Tripp : \"Comment dessiner \"Le petit ...</td>\n",
       "      <td>0</td>\n",
       "    </tr>\n",
       "    <tr>\n",
       "      <th>1</th>\n",
       "      <td>958</td>\n",
       "      <td>\"Valérie Pécresse elle est pas encore présiden...</td>\n",
       "      <td>0</td>\n",
       "    </tr>\n",
       "    <tr>\n",
       "      <th>2</th>\n",
       "      <td>662</td>\n",
       "      <td>L'Illiade : Achille dépose les armes (2/3) - L...</td>\n",
       "      <td>0</td>\n",
       "    </tr>\n",
       "    <tr>\n",
       "      <th>3</th>\n",
       "      <td>42</td>\n",
       "      <td>Thierry Lhermitte - Morgane Cadignan n'aime pas</td>\n",
       "      <td>1</td>\n",
       "    </tr>\n",
       "    <tr>\n",
       "      <th>4</th>\n",
       "      <td>706</td>\n",
       "      <td>La question des parrainages et la fracture dém...</td>\n",
       "      <td>0</td>\n",
       "    </tr>\n",
       "    <tr>\n",
       "      <th>...</th>\n",
       "      <td>...</td>\n",
       "      <td>...</td>\n",
       "      <td>...</td>\n",
       "    </tr>\n",
       "    <tr>\n",
       "      <th>794</th>\n",
       "      <td>663</td>\n",
       "      <td>Elie Cohen et François Asselin : \"On découvre ...</td>\n",
       "      <td>0</td>\n",
       "    </tr>\n",
       "    <tr>\n",
       "      <th>795</th>\n",
       "      <td>48</td>\n",
       "      <td>Canicule : des températures pas très républica...</td>\n",
       "      <td>1</td>\n",
       "    </tr>\n",
       "    <tr>\n",
       "      <th>796</th>\n",
       "      <td>582</td>\n",
       "      <td>Laure Calamy : \"On a envie de raconter les fem...</td>\n",
       "      <td>0</td>\n",
       "    </tr>\n",
       "    <tr>\n",
       "      <th>797</th>\n",
       "      <td>568</td>\n",
       "      <td>Le questionnaire Jupiproust de Charlie Danger ...</td>\n",
       "      <td>0</td>\n",
       "    </tr>\n",
       "    <tr>\n",
       "      <th>798</th>\n",
       "      <td>388</td>\n",
       "      <td>Le questionnaire Jupiproust de Gérard Garouste...</td>\n",
       "      <td>1</td>\n",
       "    </tr>\n",
       "  </tbody>\n",
       "</table>\n",
       "<p>799 rows × 3 columns</p>\n",
       "</div>"
      ]
     },
     "execution_count": 3,
     "metadata": {},
     "output_type": "execute_result"
    }
   ],
   "execution_count": 3
  },
  {
   "metadata": {
    "ExecuteTime": {
     "end_time": "2024-10-27T09:27:59.829578Z",
     "start_time": "2024-10-27T09:27:59.820615Z"
    }
   },
   "cell_type": "code",
   "source": "X, y = make_features(df)",
   "id": "e05992ed4269f7ad",
   "outputs": [],
   "execution_count": 4
  },
  {
   "metadata": {
    "ExecuteTime": {
     "end_time": "2024-10-27T09:28:02.138423Z",
     "start_time": "2024-10-27T09:28:02.133620Z"
    }
   },
   "cell_type": "code",
   "source": "X",
   "id": "a0e7fa670883bd57",
   "outputs": [
    {
     "data": {
      "text/plain": [
       "array([[0., 0., 0., ..., 0., 0., 0.],\n",
       "       [0., 0., 0., ..., 0., 0., 1.],\n",
       "       [0., 0., 0., ..., 0., 0., 0.],\n",
       "       ...,\n",
       "       [0., 0., 0., ..., 0., 0., 0.],\n",
       "       [0., 0., 0., ..., 0., 0., 0.],\n",
       "       [0., 0., 0., ..., 0., 0., 0.]])"
      ]
     },
     "execution_count": 5,
     "metadata": {},
     "output_type": "execute_result"
    }
   ],
   "execution_count": 5
  },
  {
   "metadata": {
    "ExecuteTime": {
     "end_time": "2024-10-27T09:28:45.568742Z",
     "start_time": "2024-10-27T09:28:45.562344Z"
    }
   },
   "cell_type": "code",
   "source": [
    "df_test = make_dataset(test_csv)\n",
    "test_X, test_y = make_features(df_test)\n",
    "\n"
   ],
   "id": "bb47263eead22a7",
   "outputs": [],
   "execution_count": 7
  },
  {
   "metadata": {
    "ExecuteTime": {
     "end_time": "2024-10-27T09:28:49.746887Z",
     "start_time": "2024-10-27T09:28:49.741778Z"
    }
   },
   "cell_type": "code",
   "source": "test_X",
   "id": "90e54567041b350c",
   "outputs": [
    {
     "data": {
      "text/plain": [
       "array([[1., 0., 0., ..., 0., 0., 0.],\n",
       "       [0., 0., 0., ..., 0., 0., 0.],\n",
       "       [0., 0., 0., ..., 0., 0., 0.],\n",
       "       ...,\n",
       "       [0., 0., 0., ..., 0., 0., 0.],\n",
       "       [0., 0., 0., ..., 0., 0., 0.],\n",
       "       [0., 0., 0., ..., 0., 0., 0.]])"
      ]
     },
     "execution_count": 8,
     "metadata": {},
     "output_type": "execute_result"
    }
   ],
   "execution_count": 8
  },
  {
   "metadata": {},
   "cell_type": "code",
   "outputs": [],
   "execution_count": null,
   "source": "",
   "id": "35e5c401ba00a753"
  }
 ],
 "metadata": {
  "kernelspec": {
   "display_name": "Python 3",
   "language": "python",
   "name": "python3"
  },
  "language_info": {
   "codemirror_mode": {
    "name": "ipython",
    "version": 2
   },
   "file_extension": ".py",
   "mimetype": "text/x-python",
   "name": "python",
   "nbconvert_exporter": "python",
   "pygments_lexer": "ipython2",
   "version": "2.7.6"
  }
 },
 "nbformat": 4,
 "nbformat_minor": 5
}
